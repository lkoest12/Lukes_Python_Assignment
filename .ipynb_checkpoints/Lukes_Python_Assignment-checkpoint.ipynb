{
 "cells": [
  {
   "cell_type": "markdown",
   "metadata": {},
   "source": [
    "# Luke's Python Assignment"
   ]
  },
  {
   "cell_type": "markdown",
   "metadata": {},
   "source": [
    "Firstly, we will be defining a function called get_sequences_from_file that is given the argument fasta_fn. the function will make a variable called sequence_data_dict that contains the species names for every sequence contained within the fasta_fn file. the way we accomplish this is to loop through the fasta_fn file and parsing all the sequences into into fasta format for handling, creating a seqrecord for each, which is a seq object with identifiers, a description (usually a species name) and additional annotation data. we will split all the descriptions from the seqrecords that were parsed and place them in a new variable called description then create a new variable called species name and define it as the first word of the description\"space\"then the second word (ex. \"P. barbatum\"). finally, we will place newly created species name into "
   ]
  },
  {
   "cell_type": "code",
   "execution_count": 134,
   "metadata": {},
   "outputs": [],
   "source": [
    "from Bio import SeqIO\n",
    "from Bio.Data import CodonTable\n",
    "import pandas as pd\n",
    "from Bio.Seq import Seq\n",
    "from Bio.Alphabet import generic_dna\n",
    "from Bio.Alphabet import IUPAC\n",
    "from Bio.SeqUtils.ProtParam import ProteinAnalysis\n",
    "import seaborn as sns\n",
    "import numpy as np\n",
    "import matplotlib.pyplot as plt"
   ]
  },
  {
   "cell_type": "code",
   "execution_count": null,
   "metadata": {
    "collapsed": true
   },
   "outputs": [],
   "source": [
    "#test string of sequences\n",
    "test_me = \"ATGGCCCCAAATCTCCGAAAATCCCATCCCCTCCTAAAAATAATTAATAACTCCCTAATCGACCTGCCCACCCCATCAAACATCTCTGCCTGATGAAACTTCGGATCTCTCCTAGGCATCTGCCTAACTACACAAATTTTAACCGGCCTCCTACTAGCTATACACTACACTGCAGACACAACCCTAGCCTTCTCCTCAGTCGCCCACACATGCCGAAACGTACAGTACGGCTGACTGATCCGCAACCTACATGCAAACGGAGCATCATTCTTCTTCATCTGCATCTATCTCCACATTGGCCGTGGATTTTACTATGGCTCCTATCTATACAAAGAAACCTGAAACACAGGCATTATCCTCCTACTCACCCTCATGGCAACCGCCTTCGTAGGCTACGTCCTACCATGAGGACAAATATCTTTCTGAGGAGCCACAGTCATTACCAACTTATTCTCAGCCATCCCTTACATTGGCCAAACCCTCGTAGAATGGACCTGAGGTGGCTTTTCAGTAGACAACCCCACATTAACCCGATTTTTCGCACTACACTTCCTCCTTCCCTTCATAATCGCAGGCCTCACCCTCATCCACCTCACCTTCCTCCACGAATCAGGCTCAAATAACCCACTGGGCATCGTAGCTAACTCCGATAAAATCCCATTCCACCCCTACTACTCCACAAAAGACATCCTAGGATTCGCACTCATACTTCTCCCACTAACAACCCTTGCCCTATTCTCCCCCAACCTACTAGGAGACCCAGAAAACTTCACCCCAGCAAACCCACTAGTCACACCCCCACACATCAAACCAGAATGATACTTCCTATTTGCATACGCTATCCTACGCTCAATCCCCAACAAACTAGGAGGAGTCCTTGCCCTAGCAGCATCCGTGCTAATCCTATTCCTAATCCCTCTCCTCCACAAATCCAAGCAACGCACAATAGCTTTCCGCCCTCTCTCCCAACTCCTATTCTGAGCCCTAGTAGCCAATCTCATTATCCTAACATGAGTAGGTAGCCAACCAGTAGAACACCCCTTCATCATCATCGGCCAACTAGCCTCCCTCACTTACTTCACCACCCTCCTGATCCTCTTCCCCATTGCTGGGGCCCTAGAAAACAAAATACTCAACCATTAA\""
   ]
  },
  {
   "cell_type": "code",
   "execution_count": null,
   "metadata": {
    "collapsed": true
   },
   "outputs": [],
   "source": [
    "#test SeqRecord of seqences\n",
    "test_me_seq_object = Seq(\"ATGGCCCCAAATCTCCGAAAATCCCATCCCCTCCTAAAAATAATTAATAACTCCCTAATCGACCTGCCCACCCCATCAAACATCTCTGCCTGATGAAACTTCGGATCTCTCCTAGGCATCTGCCTAACTACACAAATTTTAACCGGCCTCCTACTAGCTATACACTACACTGCAGACACAACCCTAGCCTTCTCCTCAGTCGCCCACACATGCCGAAACGTACAGTACGGCTGACTGATCCGCAACCTACATGCAAACGGAGCATCATTCTTCTTCATCTGCATCTATCTCCACATTGGCCGTGGATTTTACTATGGCTCCTATCTATACAAAGAAACCTGAAACACAGGCATTATCCTCCTACTCACCCTCATGGCAACCGCCTTCGTAGGCTACGTCCTACCATGAGGACAAATATCTTTCTGAGGAGCCACAGTCATTACCAACTTATTCTCAGCCATCCCTTACATTGGCCAAACCCTCGTAGAATGGACCTGAGGTGGCTTTTCAGTAGACAACCCCACATTAACCCGATTTTTCGCACTACACTTCCTCCTTCCCTTCATAATCGCAGGCCTCACCCTCATCCACCTCACCTTCCTCCACGAATCAGGCTCAAATAACCCACTGGGCATCGTAGCTAACTCCGATAAAATCCCATTCCACCCCTACTACTCCACAAAAGACATCCTAGGATTCGCACTCATACTTCTCCCACTAACAACCCTTGCCCTATTCTCCCCCAACCTACTAGGAGACCCAGAAAACTTCACCCCAGCAAACCCACTAGTCACACCCCCACACATCAAACCAGAATGATACTTCCTATTTGCATACGCTATCCTACGCTCAATCCCCAACAAACTAGGAGGAGTCCTTGCCCTAGCAGCATCCGTGCTAATCCTATTCCTAATCCCTCTCCTCCACAAATCCAAGCAACGCACAATAGCTTTCCGCCCTCTCTCCCAACTCCTATTCTGAGCCCTAGTAGCCAATCTCATTATCCTAACATGAGTAGGTAGCCAACCAGTAGAACACCCCTTCATCATCATCGGCCAACTAGCCTCCCTCACTTACTTCACCACCCTCCTGATCCTCTTCCCCATTGCTGGGGCCCTAGAAAACAAAATACTCAACCATTAA\", generic_dna)"
   ]
  },
  {
   "cell_type": "code",
   "execution_count": null,
   "metadata": {
    "collapsed": true
   },
   "outputs": [],
   "source": [
    "#test aa seq string without stop codons\n",
    "test_aa_seq = \"MAPNLRKSHPLLKMINNSLIDLPTPSNISAWWNFGSLLGICLTTQILTGLLLAMNH\""
   ]
  },
  {
   "cell_type": "code",
   "execution_count": 20,
   "metadata": {
    "collapsed": true
   },
   "outputs": [],
   "source": [
    "##NO.1\n",
    "def get_sequences_from_file(file_fn): #defining the function get_sequenced_from_file to work around a fasta file\n",
    "    sequence_data_dict = {} #creating the sequence_data_dict library\n",
    "    for record in SeqIO.parse(file_fn, \"fasta\"): #for self-defined \"record\"(fasta entry) in a file that is parsed into a fasta seqrecord\n",
    "        description = record.description.split() #create a variable names \"description\" that containse the entire line of the description into individual words and assigns them a key \n",
    "        species_name = description[1] + \" \" + description[2] #taking the first key of the description + \"space\" + the second key of the description and putting it into a object called species_name\n",
    "        sequence_data_dict[species_name] = record.seq # two things are happening here: 1. you are putting the object \"species_name\" in the dictionary species_data_dict and 2. you are attaching the information created from running the seq command (value) to the specific key\n",
    "    return(sequence_data_dict) #return the keys and their values for every \"record\" in the dictionary"
   ]
  },
  {
   "cell_type": "code",
   "execution_count": 43,
   "metadata": {},
   "outputs": [],
   "source": [
    "\n",
    "##NO.2\n",
    "def translate_function(string_nucleotides): #defining the function translate_function\n",
    "    codon_list = [string_nucleotides[i:i+3] for i in range(0, len(string_nucleotides), 3)] #here I am making an list that contains strings made from every three bases in the string of nucleotides. \n",
    "    mito_table = CodonTable.unambiguous_dna_by_name[\"Vertebrate Mitochondrial\"] #I am putting the vertabrate mitochondrial table into a variable\n",
    "    aa_seq_string = \"\" #initiating an open string\n",
    "    for i in codon_list: #begining of the for loop that will loop over every string of 3 bases in codon_list, created above\n",
    "        if i not in mito_table.stop_codons: # if not a stop codon\n",
    "            aa_seq_string+=(mito_table.forward_table[i]) # this command will compare every string of 3 bases in codon_list to the mito_table and create a new string containing the only the letter designations for the proteins the codons represent\n",
    "        else: break #once a stop codon is reached within the list, the loop will stop\n",
    "    return aa_seq_string\n",
    "#I used http://biopython.org/DIST/docs/tutorial/Tutorial.html to find the information on how to incorporate the mito_table and functions\n",
    "   "
   ]
  },
  {
   "cell_type": "code",
   "execution_count": 86,
   "metadata": {},
   "outputs": [],
   "source": [
    "##NO.3\n",
    "def biotranslate_function(biostring_nucleotides): #I defined the function biotranslate_function to read string of nucleotides\n",
    "    biostring_seq_object = Seq(biostring_nucleotides, generic_dna) #this will be turning the string into a SeqObject, as this is the format the biopython translate function accepts\n",
    "    biotranslate_seq_object = biostring_seq_object.translate(table=mito_table) #this is using the translate function provided here: http://biopython.org/DIST/docs/api/Bio.Seq-module.html (this requires that you import Seq from Bio.Seq from above). I also used the argument \"table, to allow me to select the mito_table\n",
    "    return biotranslate_seq_object"
   ]
  },
  {
   "cell_type": "code",
   "execution_count": 105,
   "metadata": {
    "collapsed": true
   },
   "outputs": [],
   "source": [
    "##NO.4 ensure that translate has stop_symbol = \"\" above\n",
    "def compute_molecular_weight(aa_seq): #defining the function to compute molecular weight that will take an amino acid string\n",
    "    mol_weight_prot = str(aa_seq) #converting any amino acid sequence to a string, just in case it is still a SeqObject\n",
    "    prot_seq = ProteinAnalysis(mol_weight_prot) # running the BioPython ProteinAnalysis command on the string of amino acids you have created (this will require you to import ProteinAnalysis from Bio.SeqUtils.ProtParam )\n",
    "    prot_seq_mol_weight = prot_seq.molecular_weight() #running the molecular weight command on the summary you generated above\n",
    "    return prot_seq_mol_weight"
   ]
  },
  {
   "cell_type": "code",
   "execution_count": 110,
   "metadata": {},
   "outputs": [],
   "source": [
    "##NO.5 (got from class)\n",
    "def gc_content(nucleotide_string): #defining a function to read a nucleotide string that tells you gc content\n",
    "    gccount = 0 #initially, set whatever object you will count in to 0\n",
    "    for base in nucleotide_string: #beginning of the for loop that will loop over the nucleotide string\n",
    "        if base is \"G\" or base is \"C\": #this states that if the base is either a G or a C...\n",
    "            gccount += 1 #add to the original object\n",
    "    return(gccount/ len(nucleotide_string)*100) #this will return your count divided by the entire length (proportion) then multiplying by 100 (percentage)\n",
    "        "
   ]
  },
  {
   "cell_type": "code",
   "execution_count": 112,
   "metadata": {
    "collapsed": true
   },
   "outputs": [],
   "source": [
    "cytb_seqs = get_sequences_from_file(\"penguins_cytb.fasta\")"
   ]
  },
  {
   "cell_type": "code",
   "execution_count": 113,
   "metadata": {
    "collapsed": true
   },
   "outputs": [],
   "source": [
    "penguins_df = pd.read_csv(\"penguins_mass.csv\") # Includes only data for body mass \n",
    "species_list = list(penguins_df.species)"
   ]
  },
  {
   "cell_type": "code",
   "execution_count": 116,
   "metadata": {},
   "outputs": [],
   "source": [
    "##No.6\n",
    "penguins_df[\"molecular weight\"] = \"NaN\" #adding columns to the dataframe and setting all value to NaN"
   ]
  },
  {
   "cell_type": "code",
   "execution_count": 117,
   "metadata": {
    "collapsed": true
   },
   "outputs": [],
   "source": [
    "##No. 6\n",
    "penguins_df[\"GC content\"] = \"NaN\" #adding columns to the data fram and setting all values currently to NaN"
   ]
  },
  {
   "cell_type": "code",
   "execution_count": 118,
   "metadata": {
    "collapsed": true
   },
   "outputs": [],
   "source": [
    "##creating a new function containing no astricts\n",
    "def biotranslate_function_noast(biostring_nucleotides):  \n",
    "    biostring_seq_object = Seq(biostring_nucleotides, generic_dna)\n",
    "    biotranslate_seq_object = biostring_seq_object.translate(table=mito_table, stop_symbol= '')#this is the exact same function as above, but with an argument making all astrisks associated with stop codons become nothin instead. this is because the mol weight functions cannot interpret asterisks\n",
    "    return biotranslate_seq_object"
   ]
  },
  {
   "cell_type": "code",
   "execution_count": 125,
   "metadata": {},
   "outputs": [],
   "source": [
    "##No.7\n",
    "molecular_weights = [] #defining an open list for molecular weights\n",
    "gc_contents = [] #defining an open list for gc content\n",
    "for key, value in cytb_seqs.items(): #beginning of the for loop that will loop over the keys and values in cytb_seqs. the item option defines to the loop which items are values and keys. the keys are specied and the values are sequences.\n",
    "    value_string = str(value) #change the values to a string\n",
    "    translated_seqs = biotranslate_function_noast(value_string) #run the biotranslate function defined above, and make a new list with these values\n",
    "    mol_weight_seqs = compute_molecular_weight(translated_seqs) #compute molecular weight on that translated list and make a new list containing these values\n",
    "    gc_content_seqs = gc_content(value_string) #calculate the gc content on the string before it was translated to amino acids\n",
    "    molecular_weights.append(mol_weight_seqs) #put the values for molecular weights into the lists defined above\n",
    "    gc_contents.append(gc_content_seqs) #put the values for gc content into the list defined above\n",
    "penguins_df[\"molecular weight\"] = molecular_weights #replace the values in the molecular weight column in penguins_df with the values in our new list\n",
    "penguins_df[\"GC content\"] = gc_contents #same as above but with gc content"
   ]
  },
  {
   "cell_type": "code",
   "execution_count": 139,
   "metadata": {},
   "outputs": [],
   "source": [
    "%matplotlib inline #preparing python to use matplotlib"
   ]
  },
  {
   "cell_type": "code",
   "execution_count": 146,
   "metadata": {},
   "outputs": [
    {
     "data": {
      "text/plain": [
       "<matplotlib.axes._subplots.AxesSubplot at 0x2d079185198>"
      ]
     },
     "execution_count": 146,
     "metadata": {},
     "output_type": "execute_result"
    },
    {
     "data": {
      "image/png": "[encoded data removed]",
      "text/plain": [
       "<matplotlib.figure.Figure at 0x2d079171f60>"
      ]
     },
     "metadata": {},
     "output_type": "display_data"
    }
   ],
   "source": [
    "\n",
    "sns.barplot(x=\"mass\", y=\"species\", data= penguins_df) #a simple barchart of mass by sepecies. I placed it on its side so it was readable by switching its axis."
   ]
  },
  {
   "cell_type": "code",
   "execution_count": 148,
   "metadata": {},
   "outputs": [
    {
     "data": {
      "text/plain": [
       "<seaborn.axisgrid.FacetGrid at 0x2d078631940>"
      ]
     },
     "execution_count": 148,
     "metadata": {},
     "output_type": "execute_result"
    },
    {
     "data": {
      "image/png": "[encoded data removed]",
      "text/plain": [
       "<matplotlib.figure.Figure at 0x2d07930e240>"
      ]
     },
     "metadata": {},
     "output_type": "display_data"
    }
   ],
   "source": [
    "sns.lmplot(x=\"GC content\", y=\"mass\", data= penguins_df) #this was a similar lmplot to class, but I left on the regression line."
   ]
  },
  {
   "cell_type": "code",
   "execution_count": 150,
   "metadata": {},
   "outputs": [],
   "source": [
    "penguins_df.to_csv(\"penguins_mass_cytb.csv\") #The to_csv command will write the panda dataframe to a csv."
   ]
  },
  {
   "cell_type": "code",
   "execution_count": null,
   "metadata": {
    "collapsed": true
   },
   "outputs": [],
   "source": [
    "#NO.11\n",
    "#a) we can transcribe the data in you nucleotide sequences using biopythons transcribe function to display RNA information and follow the entire sequence through, if we wanted."
   ]
  }
 ],
 "metadata": {
  "kernelspec": {
   "display_name": "Python 3",
   "language": "python",
   "name": "python3"
  },
  "language_info": {
   "codemirror_mode": {
    "name": "ipython",
    "version": 3
   },
   "file_extension": ".py",
   "mimetype": "text/x-python",
   "name": "python",
   "nbconvert_exporter": "python",
   "pygments_lexer": "ipython3",
   "version": "3.6.2"
  }
 },
 "nbformat": 4,
 "nbformat_minor": 2
}
